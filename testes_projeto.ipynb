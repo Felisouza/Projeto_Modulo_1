{
 "cells": [
  {
   "cell_type": "code",
   "execution_count": 21,
   "metadata": {},
   "outputs": [],
   "source": [
    "#Funções\n",
    "###Função que só printa instruções do jogo\n",
    "def como_jogar():\n",
    "    print(\n",
    "    f'\\nNo jogo quem define os caminhos do personagem principal é você. \\nO jogo é simples, são oferecidas possibilidades numeradas em que \\nvocê poderá escolher apenas uma. Você deve digitar o número da ação \\nque deseja fazer. E suas escolhas é que desenrolarão o andar da história.\\n')\n",
    "\n"
   ]
  },
  {
   "cell_type": "code",
   "execution_count": 22,
   "metadata": {},
   "outputs": [],
   "source": [
    "###Função que só printa sobre o enredo\n",
    "def enredo():\n",
    "    print('='*75)\n",
    "    print(\n",
    "    f'\\nOs reptilianos finalmente se mostraram a sociedade.\\n'\n",
    "    f'Após muitos anos vivendo nas sombras arquitetando planos \\nde domínio do planeta Terra, eles finalmente se mostraram. \\n'\n",
    "    f'A espécie de répteis humanoides botaram seu plano maléfico \\nem prática. Eles criaram uma doença'\n",
    "    f'respiratória muito grave, \\na Covid-19, que vitimou muitas pessoas. Para, logo depois, \\nvenderem a \"cura\".\\n'\n",
    "    f'Uma vacina, que na verdade, era o ponto final na humanidade. \\nPois, a vacina, transformava humanos em jacarés! \\n'\n",
    "    f'Em pouco tempo milhões de jacarés povoavam as ruas do mundo todo. \\nJacarés andavam livres pela 5ª Avenida em NY; Admiravam'\n",
    "    f'a Jacaroa Lisa \\nno Museu do Louvre e enchiam o Maracanã para ver Jacarepaguá FC \\ne Jararezinho pela final do campeonato carioca.\\n'\n",
    "    f'\\nVocê está sozinho trancado em sua casa \\ntentando sobreviver em meio aos animais.'\n",
    "    f'\\nPois, você é a resistência. E não sucumbiu a maléfica vacina reptiliana. \\n'\n",
    "    f'\\nVocê deve sobreviver!\\n')\n",
    "    print('='*75)\n",
    "\n"
   ]
  },
  {
   "cell_type": "code",
   "execution_count": 23,
   "metadata": {},
   "outputs": [],
   "source": [
    "#def apresentacao_personagens():\n",
    " #   print('\\n"
   ]
  },
  {
   "cell_type": "code",
   "execution_count": 24,
   "metadata": {},
   "outputs": [],
   "source": [
    "def pergunta(item):\n",
    "    print(item)\n",
    "    item = input()\n",
    "    while item != '1' and item != '2':\n",
    "        print('Número inválido')\n",
    "        print(item)\n",
    "        item = input()\n",
    "    return item"
   ]
  },
  {
   "cell_type": "code",
   "execution_count": 25,
   "metadata": {},
   "outputs": [],
   "source": [
    "###Função que define a escolha dos personagens.\n",
    "def personagens():\n",
    "    print('\\nEscolha um dos personagens para combater a conspiração reptiliana!')\n",
    "    personagem = pergunta('[1] Cloroquiner\\n[2] Ivermectiner\\n[3] Chazinho de gengibrer ')\n",
    "    if personagem == '1':\n",
    "        personagem = 'cloroquiner'\n",
    "    elif personagem == '2':\n",
    "        personagem = 'ivermectiner'\n",
    "    else:\n",
    "        personagem = 'chazinho de gengibrer'\n",
    "    print(f'Você escolheu {personagem}\\n')\n",
    "    return personagem"
   ]
  },
  {
   "cell_type": "code",
   "execution_count": 26,
   "metadata": {},
   "outputs": [],
   "source": [
    "###Função para iniciar o jogo\n",
    "def inicio():\n",
    "    print(\n",
    "        f'\\nTOC! TOC! TOC!\\n'\n",
    "        f'\\nQuem bate na sua porta?? Seriam os jacarés tentando invadir?\\n'\n",
    "        f'A polícia reptiliana descobriu onde você mora e vieram prendê-lo?\\n'\n",
    "        f'Você olha pelo olho mágico.'\n",
    "        f'É a Rainha Elizabeth, parada em sua porta!! \\nA própria rainha da Inglaterra batendo em sua casa!!'\n",
    "        f'Você abrirá a porta para a Rainha Elizabeth?\\n'\n",
    "    )\n",
    "    comeco = input(\n",
    "        f'[1] Para abrir a porta para ela\\n'\n",
    "        f'[2] Não confio em ninguém! Não vou abrir\\n'\n",
    "    )\n",
    "    while comeco != '1' and comeco != '2':\n",
    "        print('Número inválido')\n",
    "        comeco = input(\n",
    "        f'[1] Para abrir a porta para ela\\n'\n",
    "        f'[2] Não confio em ninguém! Não vou abrir\\n')\n",
    "    return comeco\n",
    "\n"
   ]
  },
  {
   "cell_type": "code",
   "execution_count": 27,
   "metadata": {},
   "outputs": [],
   "source": [
    "###Caminho caso não abra a porta para a Rainha\n",
    "def n_abre_porta():\n",
    "    n_abre_porta = input(\n",
    "        f'[1] Abrir a porta, ela é muito insistente!\\n'\n",
    "        f'[2] Não abrir a porta, ela é muito chata! Não quero ela na minha porta!')\n",
    "    while n_abre_porta != '1' and n_abre_porta != '2':\n",
    "        print('Número inválido')\n",
    "        n_abre_porta = input(\n",
    "        f'[1] Abrir a porta, ela é muito insistente!\\n'\n",
    "        f'[2] Não abrir a porta, ela é muito chata! Não quero ela na minha porta!')\n",
    "    return n_abre_porta"
   ]
  },
  {
   "cell_type": "code",
   "execution_count": 28,
   "metadata": {},
   "outputs": [],
   "source": [
    "def rainha_entra():\n",
    "    print(\n",
    "          f'\\nEla entrou em sua casa observando os arredores e disse: \\n'\n",
    "          f'\"Olá, sou a Rainha Elizabeth! Eu costumava ser a rainha dos humanos ingleses, \\nmas fomos dominados por esses reptilianos e perdi meu reinado\"\\n'\n",
    "          f'\"Fiquei sabendo que tem um humano muito inteligente aqui nesta casa! E vim aqui \\npara recrutá-lo para a luta contra os reptilianos! Pela reconstrução do reinado dos humanos!!\"\\n'\n",
    "          f\"Mas antes de continuarmos, você poderia me dar um copo d'água?\\n\"   \n",
    "    )"
   ]
  },
  {
   "cell_type": "code",
   "execution_count": 29,
   "metadata": {},
   "outputs": [],
   "source": [
    "###Caminho para servir água para a rainha ou não\n",
    "def dar_agua():\n",
    "    print('Dar água para a Rainha? ')\n",
    "    dar_agua = input(\n",
    "        f'\\n[1] Ir na cozinha e voltar com a água para ela\\n'\n",
    "        f'[2] Não confio nela, não a deixarei sozinha! Mandar ela ir na frente para não perder ela de vista\\n'\n",
    "        f'[3] Eu não vou dar água pra ninguém não! Não chamei ela aqui!!\\n'\n",
    "        )\n",
    "    while dar_agua != '1' and dar_agua != '2' and dar_agua != '3':\n",
    "        print('Número inválido!')\n",
    "        dar_agua = input(\n",
    "        f'\\n[1] Ir na cozinha e voltar com a água para ela\\n'\n",
    "        f'[2] Não confio nela, não a deixarei sozinha! Mandar ela ir na frente para não perder ela de vista\\n'\n",
    "        )\n",
    "    return dar_agua"
   ]
  },
  {
   "cell_type": "code",
   "execution_count": 30,
   "metadata": {},
   "outputs": [],
   "source": [
    "def perde():\n",
    "    perde = True\n",
    "    print(\n",
    "        f'Ela estava te enganando o tempo todo!\\n'\n",
    "        f'Ela é a rainha dos reptilianos!\\n'\n",
    "        f'Você se descuidou e ela te transformou em jacaré!'\n",
    "    )\n",
    "    return perde"
   ]
  },
  {
   "cell_type": "code",
   "execution_count": 31,
   "metadata": {},
   "outputs": [],
   "source": [
    "def ganha():\n",
    "    ganha = True\n",
    "    print(\n",
    "        f'\\nParabéns você ganhou!\\n'\n",
    "        f'Ela era a rainha dos reptilianos e queria te transformar em jacaré!\\n'\n",
    "        f'Mas, vc é muito inteligente e não deixou!\\n'\n",
    "        f'Você não se deixa enganar por qualquer um!\\n'    \n",
    "    )\n",
    "    return ganha"
   ]
  },
  {
   "cell_type": "code",
   "execution_count": 32,
   "metadata": {},
   "outputs": [],
   "source": [
    "def joga_novamente():\n",
    "    print('Quer jogar novamente?')\n",
    "    joga_novamente = input(\n",
    "            f'\\n[1] Digite 1 para jogar novamente!\\n'\n",
    "            f'[2] Digite 2 para terminar o jogo!\\n')\n",
    "    if joga_novamente == '1':\n",
    "        return jogo()\n",
    "    else:\n",
    "        print('Fim do jogo')"
   ]
  },
  {
   "cell_type": "code",
   "execution_count": 33,
   "metadata": {},
   "outputs": [],
   "source": [
    "def ouvir_ligacao():\n",
    "    ouvir_ligacao = input(\n",
    "        f'\\n[1] Sim, é melhor previnir\\n'\n",
    "        f'[2] Não, não sou fofoqueiro\\n' \n",
    "    )\n",
    "    return ouvir_ligacao"
   ]
  },
  {
   "cell_type": "code",
   "execution_count": 34,
   "metadata": {},
   "outputs": [],
   "source": [
    "def que_fazer():\n",
    "    que_fazer = input(\n",
    "        f'\\n[1] Utilizar seu poder!'\n",
    "        f'[2] Pular em cima dela!\\n')\n",
    "    return que_fazer"
   ]
  },
  {
   "cell_type": "code",
   "execution_count": 35,
   "metadata": {},
   "outputs": [],
   "source": [
    "def solta_olavo():\n",
    "    solta_olavo = input(\n",
    "        f'\\n[1] Solta ela, ela é apenas uma velinha!\\n'\n",
    "        f'[2] Levar ela para o porão e convertê-la. Mostrar vídeos do Olavo de Carvalho para ela\\n')\n",
    "    return solta_olavo"
   ]
  },
  {
   "cell_type": "code",
   "execution_count": 36,
   "metadata": {},
   "outputs": [],
   "source": [
    "def continua():\n",
    "    continua = input(\n",
    "        f'\\n[1] Não parar, ela deve ver a verdade!!\\n'\n",
    "        f'[2] Parar e soltar ela')\n",
    "    return continua"
   ]
  },
  {
   "cell_type": "code",
   "execution_count": 37,
   "metadata": {},
   "outputs": [],
   "source": [
    "#O jogo\n",
    "def jogo():\n",
    "    como_jogar()\n",
    "    enredo()\n",
    "    #apresentacao_personagens()\n",
    "    personagem = personagens()\n",
    "    comeco = inicio()\n",
    "    if comeco == '1':\n",
    "        rainha_entra()\n",
    "    else:\n",
    "        print(\n",
    "        f'\\nEla está batendo loucamente na porta, não vai abrir mesmo?'\n",
    "        )\n",
    "        nao_abre = n_abre_porta()\n",
    "        if nao_abre == '1':\n",
    "            rainha_entra()\n",
    "        else:\n",
    "            print(f'\\nEla é muito insistente e entrou pela janela mesmo!!\\n')\n",
    "            rainha_entra()\n",
    "    agua = dar_agua()\n",
    "    if agua == '1':\n",
    "        perde()\n",
    "        joga_novamente()\n",
    "    elif agua == '2':\n",
    "        print(\n",
    "            f'\\nVocês chegaram a cozinha\\n'\n",
    "            f'Ela pegou a própria água!\\n'\n",
    "            f'Ela pediu para ir para outro cômodo para fazer uma ligação\\n'\n",
    "            f'Ir para atrás da porta e ouvir a ligação?\\n')\n",
    "        ligacao = ouvir_ligacao()\n",
    "        if ligacao == '1':\n",
    "            print(\n",
    "                f'\\nEla está pedindo reforços!\\n'\n",
    "                f'O que você vai fazer?\\n')\n",
    "            fazer = que_fazer()\n",
    "            if fazer == '1':\n",
    "                if personagem == '1':\n",
    "                    print('\\nCloroquina não é eficaz contra o Corona Vírus, muito menos contra reptilianos\\n')\n",
    "                    perde()\n",
    "                    joga_novamente()\n",
    "                elif personagem == '2':\n",
    "                    print('Ivermectina não é eficaz contra o Corona Vírus, muito menos contra reptilianos\\n')\n",
    "                    perde()\n",
    "                    joga_novamente()\n",
    "                else:\n",
    "                    print('Chá de gengibre é uma delícia, mas não é eficaz contra Corona vírus muito menos contra reptilianos\\n')\n",
    "                    perde()\n",
    "                    joga_novamente()\n",
    "            else:\n",
    "                print('Você prendeu a rainha dos reptilianos!!')\n",
    "                solta = solta_olavo()\n",
    "                if solta == '1':\n",
    "                    perde()\n",
    "                    joga_novamente()\n",
    "                else:\n",
    "                    print('Ela não aguenta mais! Está pedindo para parar')\n",
    "                    continuar = continua()\n",
    "                    if continuar == '1':\n",
    "                        print('Ela morreu de desgosto!')\n",
    "                        ganha()\n",
    "                        joga_novamente()\n",
    "                    else:\n",
    "                        print('Ela foi embora e prometeu nunca mais voltar! Você é a resistência e nunca será dobrado!')\n",
    "                        ganha()\n",
    "                        joga_novamente()\n",
    "        else:\n",
    "            perde()\n",
    "    else:\n",
    "        print('\\nEla estava muito tempo sem beber água! Reptilianos não podem desidratar e ela faleceu!!')\n",
    "        ganha()\n",
    "        joga_novamente()\n",
    "                        \n",
    "                \n",
    "            \n",
    "        \n",
    "    \n",
    "    "
   ]
  },
  {
   "cell_type": "code",
   "execution_count": 38,
   "metadata": {
    "scrolled": true
   },
   "outputs": [
    {
     "name": "stdout",
     "output_type": "stream",
     "text": [
      "\n",
      "No jogo quem define os caminhos do personagem principal é você. \n",
      "O jogo é simples, são oferecidas possibilidades numeradas em que \n",
      "você poderá escolher apenas uma. Você deve digitar o número da ação \n",
      "que deseja fazer. E suas escolhas é que desenrolarão o andar da história.\n",
      "\n",
      "===========================================================================\n",
      "\n",
      "Os reptilianos finalmente se mostraram a sociedade.\n",
      "Após muitos anos vivendo nas sombras arquitetando planos \n",
      "de domínio do planeta Terra, eles finalmente se mostraram. \n",
      "A espécie de répteis humanoides botaram seu plano maléfico \n",
      "em prática. Eles criaram uma doençarespiratória muito grave, \n",
      "a Covid-19, que vitimou muitas pessoas. Para, logo depois, \n",
      "venderem a \"cura\".\n",
      "Uma vacina, que na verdade, era o ponto final na humanidade. \n",
      "Pois, a vacina, transformava humanos em jacarés! \n",
      "Em pouco tempo milhões de jacarés povoavam as ruas do mundo todo. \n",
      "Jacarés andavam livres pela 5ª Avenida em NY; Admiravama Jacaroa Lisa \n",
      "no Museu do Louvre e enchiam o Maracanã para ver Jacarepaguá FC \n",
      "e Jararezinho pela final do campeonato carioca.\n",
      "\n",
      "Você está sozinho trancado em sua casa \n",
      "tentando sobreviver em meio aos animais.\n",
      "Pois, você é a resistência. E não sucumbiu a maléfica vacina reptiliana. \n",
      "\n",
      "Você deve sobreviver!\n",
      "\n",
      "===========================================================================\n",
      "\n",
      "Escolha um dos personagens para combater a conspiração reptiliana!\n",
      "[1] Cloroquiner\n",
      "[2] Ivermectiner\n",
      "[3] Chazinho de gengibrer \n",
      "1\n",
      "Você escolheu cloroquiner\n",
      "\n",
      "\n",
      "TOC! TOC! TOC!\n",
      "\n",
      "Quem bate na sua porta?? Seriam os jacarés tentando invadir?\n",
      "A polícia reptiliana descobriu onde você mora e vieram prendê-lo?\n",
      "Você olha pelo olho mágico.É a Rainha Elizabeth, parada em sua porta!! \n",
      "A própria rainha da Inglaterra batendo em sua casa!!Você abrirá a porta para a Rainha Elizabeth?\n",
      "\n",
      "[1] Para abrir a porta para ela\n",
      "[2] Não confio em ninguém! Não vou abrir\n",
      "1\n",
      "Ela entrou em sua casa observando os arredores e disse: \n",
      "\"Olá, sou a Rainha Elizabeth! Eu costumava ser a rainha dos humanos ingleses, \n",
      "mas fomos dominados por esses reptilianos e perdi meu reinado\"\n",
      "\"Fiquei sabendo que tem um humano muito inteligente aqui nesta casa! E vim aqui \n",
      "para recrutá-lo para a luta contra os reptilianos! Pela reconstrução do reinado dos humanos!!\"\n",
      "Mas antes de continuarmos, você poderia me dar um copo d'água?\n",
      "\n",
      "Dar água para a Rainha? \n",
      "\n",
      "[1] Ir na cozinha e voltar com a água para ela\n",
      "[2] Não confio nela, não a deixarei sozinha! Mandar ela ir na frente para não perder ela de vista\n",
      "[3] Eu não vou dar água pra ninguém não! Não chamei ela aqui!!\n",
      "1\n",
      "Ela estava te enganando o tempo todo!\n",
      "Ela é a rainha dos reptilianos!\n",
      "Você se descuidou e ela te transformou em jacaré!\n",
      "Quer jogar novamente?\n",
      "\n",
      "[1] Digite 1 para jogar novamente!\n",
      "[2] Digite 2 para terminar o jogo!\n",
      "2\n",
      "Fim do jogo\n"
     ]
    }
   ],
   "source": [
    "jogo()"
   ]
  },
  {
   "cell_type": "code",
   "execution_count": null,
   "metadata": {},
   "outputs": [],
   "source": []
  }
 ],
 "metadata": {
  "celltoolbar": "Slideshow",
  "kernelspec": {
   "display_name": "Python 3",
   "language": "python",
   "name": "python3"
  },
  "language_info": {
   "codemirror_mode": {
    "name": "ipython",
    "version": 3
   },
   "file_extension": ".py",
   "mimetype": "text/x-python",
   "name": "python",
   "nbconvert_exporter": "python",
   "pygments_lexer": "ipython3",
   "version": "3.7.6"
  }
 },
 "nbformat": 4,
 "nbformat_minor": 4
}
