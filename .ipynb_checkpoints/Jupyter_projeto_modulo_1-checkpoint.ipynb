{
 "cells": [
  {
   "cell_type": "markdown",
   "metadata": {},
   "source": [
    "## Prints do início do jogo"
   ]
  },
  {
   "cell_type": "code",
   "execution_count": 5,
   "metadata": {},
   "outputs": [
    {
     "name": "stdout",
     "output_type": "stream",
     "text": [
      "============================================================\n",
      "Os reptilianos finalmente se mostraram a sociedade.\n",
      "Após muitos anos vivendo nas sombras arquitetando planos de domínio do planeta Terra, eles finalmentese mostraram.A espécie de répteis humanoides botaram seu plano maléfico em prática. Eles criaram uma doençarespiratória muito grave, a Covid-19, que vitimou muitas pessoas. Para, logo depois, venderem a \"cura\".\n",
      "Uma vacina, que na verdade, era o ponto final na humanidade. Pois, a vacina, transformava humanos emjacarés! \n",
      "Em pouco tempo milhões de jacarés povoavam as ruas do mundo todo. Jacarés andavam livres pela5th Avenida em NY; Admiravam a Jacaroa Lisa no Museu do Louvre e enchiam o Maracanã para verJacarepaguá FC e Jararezinho pela final do campeonato carioca. \n",
      "\n",
      " Você está com seu parceiro dentro de sua casa trancado. Tentando sobreviver em meio aos animais.Pois, você é a resistência. Você é um cloroquiner e não sucumbiu a maléfica vacina reptiliana. \n",
      "\n",
      " Você deve sobreviver! \n",
      "============================================================\n"
     ]
    }
   ],
   "source": [
    "print('='*60)\n",
    "\n",
    "print(\n",
    "    f'Os reptilianos finalmente se mostraram a sociedade.\\n'\n",
    "    f'Após muitos anos vivendo nas sombras arquitetando planos de domínio do planeta Terra, eles finalmente'\n",
    "    f'se mostraram.'\n",
    "    f'A espécie de répteis humanoides botaram seu plano maléfico em prática. Eles criaram uma doença'\n",
    "    f'respiratória muito grave, a Covid-19, que vitimou muitas pessoas. Para, logo depois, venderem a \"cura\".\\n'\n",
    "    f'Uma vacina, que na verdade, era o ponto final na humanidade. Pois, a vacina, transformava humanos em'\n",
    "    f'jacarés! \\n'\n",
    "    f'Em pouco tempo milhões de jacarés povoavam as ruas do mundo todo. Jacarés andavam livres pela'\n",
    "    f'5th Avenida em NY; Admiravam a Jacaroa Lisa no Museu do Louvre e enchiam o Maracanã para ver'\n",
    "    f'Jacarepaguá FC e Jararezinho pela final do campeonato carioca. \\n'\n",
    "    f'\\n Você está com seu parceiro dentro de sua casa trancado. Tentando sobreviver em meio aos animais.'\n",
    "    f'Pois, você é a resistência. Você é um cloroquiner e não sucumbiu a maléfica vacina reptiliana. \\n'\n",
    "    f'\\n Você deve sobreviver! '\n",
    ")\n",
    "print('='*60)"
   ]
  },
  {
   "cell_type": "code",
   "execution_count": 5,
   "metadata": {},
   "outputs": [],
   "source": [
    "def personagens():\n",
    "    personagem=input('Qual personagem deseja? ')\n",
    "    while personagem != '1' and personagem != '2' and personagem != '3':\n",
    "        print('Número inválido')\n",
    "        personagem=input('Qual personagem deseja? ')\n",
    "    if personagem == '1':\n",
    "        personagem = 'cloroquiner'\n",
    "    elif personagem == '2':\n",
    "        personagem = 'ivermectiner'\n",
    "    else:\n",
    "        personagem = 'chazinho de gengibrer'\n",
    "    return personagem"
   ]
  },
  {
   "cell_type": "code",
   "execution_count": 6,
   "metadata": {},
   "outputs": [
    {
     "name": "stdout",
     "output_type": "stream",
     "text": [
      "Qual personagem deseja? 6\n",
      "Número inválido\n",
      "Qual personagem deseja? 5\n",
      "Número inválido\n",
      "Qual personagem deseja? 4\n",
      "Número inválido\n",
      "Qual personagem deseja? 2\n"
     ]
    },
    {
     "data": {
      "text/plain": [
       "'ivermectiner'"
      ]
     },
     "execution_count": 6,
     "metadata": {},
     "output_type": "execute_result"
    }
   ],
   "source": [
    "personagens()"
   ]
  },
  {
   "cell_type": "code",
   "execution_count": 7,
   "metadata": {},
   "outputs": [],
   "source": [
    "def como_jogar():\n",
    "    print(\n",
    "    f'\\nNo jogo quem define os caminhos do personagem principal é você. \\nO jogo é simples, são oferecidas possibilidades numeradas em que \\nvocê poderá escolher apenas uma. Você deve digitar o número da ação \\nque deseja fazer. E suas escolhas é que desenrolarão o andar da história.\\n')"
   ]
  },
  {
   "cell_type": "code",
   "execution_count": 8,
   "metadata": {},
   "outputs": [
    {
     "name": "stdout",
     "output_type": "stream",
     "text": [
      "\n",
      "No jogo quem define os caminhos do personagem principal é você. \n",
      "O jogo é simples, são oferecidas possibilidades numeradas em que \n",
      "você poderá escolher apenas uma. Você deve digitar o número da ação \n",
      "que deseja fazer. E suas escolhas é que desenrolarão o andar da história.\n",
      "\n"
     ]
    }
   ],
   "source": [
    "como_jogar()"
   ]
  },
  {
   "cell_type": "code",
   "execution_count": 11,
   "metadata": {},
   "outputs": [],
   "source": [
    "def apresentacao_personagens():\n",
    "    print('\\nEscolha um dos personagens para combater a conspiração reptiliana!')\n",
    "    print(\n",
    "        f'Digite: \\n'\n",
    "        f'1 para cloroquiner \\n'\n",
    "        f'2 para ivermectiner \\n'\n",
    "        f'3 para chazinho de gengibrer'\n",
    "    )"
   ]
  },
  {
   "cell_type": "code",
   "execution_count": 12,
   "metadata": {},
   "outputs": [
    {
     "name": "stdout",
     "output_type": "stream",
     "text": [
      "\n",
      "Escolha um dos personagens para combater a conspiração reptiliana!\n",
      "Digite: \n",
      "1 para cloroquiner \n",
      "2 para ivermectiner \n",
      "3 para chazinho de gengibrer\n"
     ]
    }
   ],
   "source": [
    "apresentacao_personagens()"
   ]
  },
  {
   "cell_type": "code",
   "execution_count": 15,
   "metadata": {},
   "outputs": [],
   "source": [
    "def enredo():\n",
    "    print('='*75)\n",
    "    print(\n",
    "    f'Os reptilianos finalmente se mostraram a sociedade.\\n'\n",
    "    f'Após muitos anos vivendo nas sombras arquitetando planos \\nde domínio do planeta Terra, eles finalmente se mostraram. \\n'\n",
    "    f'A espécie de répteis humanoides botaram seu plano maléfico \\nem prática. Eles criaram uma doença'\n",
    "    f'respiratória muito grave, \\na Covid-19, que vitimou muitas pessoas. Para, logo depois, \\nvenderem a \"cura\".\\n'\n",
    "    f'Uma vacina, que na verdade, era o ponto final na humanidade. \\nPois, a vacina, transformava humanos em jacarés! \\n'\n",
    "    f'Em pouco tempo milhões de jacarés povoavam as ruas do mundo todo. \\nJacarés andavam livres pela 5ª Avenida em NY; Admiravam'\n",
    "    f'a Jacaroa Lisa \\nno Museu do Louvre e enchiam o Maracanã para ver Jacarepaguá FC \\ne Jararezinho pela final do campeonato carioca.\\n'\n",
    "    f'\\nVocê está sozinho trancado em sua casa \\ntentando sobreviver em meio aos animais.'\n",
    "    f'\\nPois, você é a resistência. E não sucumbiu a maléfica vacina reptiliana. \\n'\n",
    "    f'\\nVocê deve sobreviver! ')\n",
    "    print('='*75)"
   ]
  },
  {
   "cell_type": "code",
   "execution_count": 16,
   "metadata": {},
   "outputs": [
    {
     "name": "stdout",
     "output_type": "stream",
     "text": [
      "===========================================================================\n",
      "Os reptilianos finalmente se mostraram a sociedade.\n",
      "Após muitos anos vivendo nas sombras arquitetando planos \n",
      "de domínio do planeta Terra, eles finalmente se mostraram. \n",
      "A espécie de répteis humanoides botaram seu plano maléfico \n",
      "em prática. Eles criaram uma doençarespiratória muito grave, \n",
      "a Covid-19, que vitimou muitas pessoas. Para, logo depois, \n",
      "venderem a \"cura\".\n",
      "Uma vacina, que na verdade, era o ponto final na humanidade. \n",
      "Pois, a vacina, transformava humanos em jacarés! \n",
      "Em pouco tempo milhões de jacarés povoavam as ruas do mundo todo. \n",
      "Jacarés andavam livres pela 5ª Avenida em NY; Admiravama Jacaroa Lisa \n",
      "no Museu do Louvre e enchiam o Maracanã para ver Jacarepaguá FC \n",
      "e Jararezinho pela final do campeonato carioca.\n",
      "\n",
      "Você está sozinho trancado em sua casa \n",
      "tentando sobreviver em meio aos animais.\n",
      "Pois, você é a resistência. E não sucumbiu a maléfica vacina reptiliana. \n",
      "\n",
      "Você deve sobreviver! \n",
      "===========================================================================\n"
     ]
    }
   ],
   "source": [
    "enredo()"
   ]
  },
  {
   "cell_type": "code",
   "execution_count": 18,
   "metadata": {},
   "outputs": [],
   "source": [
    "def comeco():\n",
    "    print(\n",
    "        f'TOC TOC TOC\\n'\n",
    "        f'Quem bate na sua porta?? Seriam os jacarés tentando invadir?\\n'\n",
    "        f'A polícia reptiliana descobriu onde você mora e vieram prendê-lo?\\n'\n",
    "        f'Você olha pelo olho mágico.'\n",
    "        f'É a Rainha Elizabeth, parada em sua porta!! A própria rainha da Inglaterra batendo em sua casa!!'\n",
    "        f'Você abrirá a porta para a Rainha Elizabeth?'\n",
    "    )\n",
    "    comeco = input(\n",
    "        f'[1] Para abrir a porta para ela\\n'\n",
    "        f'[2] Não confio em ninguém! Não vou abrir\\n')\n",
    "    return comeco"
   ]
  },
  {
   "cell_type": "code",
   "execution_count": 21,
   "metadata": {},
   "outputs": [
    {
     "name": "stdout",
     "output_type": "stream",
     "text": [
      "TOC TOC TOC\n",
      "Quem bate na sua porta?? Seriam os jacarés tentando invadir?\n",
      "A polícia reptiliana descobriu onde você mora e vieram prendê-lo?\n",
      "Você olha pelo olho mágico.É a Rainha Elizabeth, parada em sua porta!! A própria rainha da Inglaterra batendo em sua casa!!Você abrirá a porta para a Rainha Elizabeth?\n",
      "[1] Para abrir a porta para ela\n",
      "[2] Não confio em ninguém! Não vou abrir1\n",
      "Ela entrou em sua casa observando os arredores e disse:\n"
     ]
    }
   ],
   "source": [
    "if comeco() == '1':\n",
    "    print(\n",
    "        f'Ela entrou em sua casa observando os arredores e disse: \\n'\n",
    "        f'\"Olá, sou a Rainha Elizabeth! Eu costumava ser a rainha dos humanos ingleses, \\n mas fomos dominados por esses reptilianos e perdi meu reinado\"\\n'\n",
    "        f'\"Fiquei sabendo que tem um humano muito inteligente aqui nessa casa! E vim aqui \\npara recrutá-lo para a luta contra os reptilianos! Pela reconstrução do reinado dos humanos!!\"\n",
    "         )\n",
    "else:\n",
    "    print(\n",
    "    f'Ela está batendo loucamente na porta, não vai abrir mesmo?'\n",
    "    )"
   ]
  },
  {
   "cell_type": "code",
   "execution_count": 9,
   "metadata": {},
   "outputs": [],
   "source": [
    "###Função que define a escolha dos personagens.\n",
    "def personagens():\n",
    "    personagem=input('Qual personagem deseja? ')\n",
    "    while personagem != '1' and personagem != '2' and personagem != '3':\n",
    "        print('Número inválido')\n",
    "        personagem=input('Qual personagem deseja? ')\n",
    "    if personagem == '1':\n",
    "        personagem = 'cloroquiner'\n",
    "    elif personagem == '2':\n",
    "        personagem = 'ivermectiner'\n",
    "    else:\n",
    "        personagem = 'chazinho de gengibrer'\n",
    "    print(f'Você escolheu {personagem}')\n",
    "    return personagem"
   ]
  },
  {
   "cell_type": "code",
   "execution_count": 10,
   "metadata": {},
   "outputs": [
    {
     "name": "stdout",
     "output_type": "stream",
     "text": [
      "Qual personagem deseja? 2\n",
      "Você escolheu ivermectiner\n"
     ]
    },
    {
     "data": {
      "text/plain": [
       "'ivermectiner'"
      ]
     },
     "execution_count": 10,
     "metadata": {},
     "output_type": "execute_result"
    }
   ],
   "source": [
    "personagens()"
   ]
  },
  {
   "cell_type": "code",
   "execution_count": 1,
   "metadata": {},
   "outputs": [],
   "source": [
    "def n_abre_porta():\n",
    "    n_abre_porta = input(\n",
    "        f'[1] Abrir a porta, ela é muito insistente!\\n'\n",
    "        f'[2] Não abrir a porta, ela é muito chata! Não quero ela na minha porta!')\n",
    "    while n_abre_porta != '1' and n_abre_porta != '2':\n",
    "        print('Número inválido')\n",
    "        n_abre_porta = input(\n",
    "        f'[1] Abrir a porta, ela é muito insistente!\\n'\n",
    "        f'[2] Não abrir a porta, ela é muito chata! Não quero ela na minha porta!')\n",
    "    return n_abre_porta"
   ]
  },
  {
   "cell_type": "code",
   "execution_count": 2,
   "metadata": {},
   "outputs": [
    {
     "name": "stdout",
     "output_type": "stream",
     "text": [
      "[1] Abrir a porta, ela é muito insistente!\n",
      "[2] Não abrir a porta, ela é muito chata! Não quero ela na minha porta!3\n",
      "Número inválido\n",
      "[1] Abrir a porta, ela é muito insistente!\n",
      "[2] Não abrir a porta, ela é muito chata! Não quero ela na minha porta!2\n"
     ]
    },
    {
     "data": {
      "text/plain": [
       "'2'"
      ]
     },
     "execution_count": 2,
     "metadata": {},
     "output_type": "execute_result"
    }
   ],
   "source": [
    "n_abre_porta()"
   ]
  },
  {
   "cell_type": "code",
   "execution_count": 3,
   "metadata": {},
   "outputs": [],
   "source": [
    "def dar_agua():\n",
    "    dar_agua = input(\n",
    "        f'\\n[1] Ir na cozinha e voltar com a água para ela\\n'\n",
    "        f'[2] Não confio nela, não a deixarei sozinha! Mandar ela ir na frente para não perder ela de vista\\n'\n",
    "        f'[3] Eu não vou dar água pra ninguém não! Não chamei ela aqui!!\\n'\n",
    "        )\n",
    "    return dar_agua"
   ]
  },
  {
   "cell_type": "code",
   "execution_count": null,
   "metadata": {},
   "outputs": [],
   "source": []
  },
  {
   "cell_type": "code",
   "execution_count": 25,
   "metadata": {},
   "outputs": [
    {
     "ename": "SyntaxError",
     "evalue": "invalid syntax (<ipython-input-25-c2815e928865>, line 15)",
     "output_type": "error",
     "traceback": [
      "\u001b[1;36m  File \u001b[1;32m\"<ipython-input-25-c2815e928865>\"\u001b[1;36m, line \u001b[1;32m15\u001b[0m\n\u001b[1;33m    return vitoria = True\u001b[0m\n\u001b[1;37m                   ^\u001b[0m\n\u001b[1;31mSyntaxError\u001b[0m\u001b[1;31m:\u001b[0m invalid syntax\n"
     ]
    }
   ],
   "source": [
    "###Função para jogar novamente\n",
    "def jogar_novamente():\n",
    "    if vitoria() == True:\n",
    "        print('Deseja jogar novamente? ')\n",
    "    elif morre() == True:\n",
    "        print('Quer jogar de novo? ')\n",
    "\n",
    "###Função que define a vitória\n",
    "def vitoria():\n",
    "    vitoria=True\n",
    "    print(\n",
    "        f'Você derrotou ela!\\n'\n",
    "        f'Ela era a rainha dos reptilianos, mas não conseguiu te enganar!\\n'\n",
    "        f'Você é a resistência! Você é um {personagem}'\n",
    "    )\n",
    "    return vitoria\n",
    "\n",
    "###Função quando você perde e vira um Jacaré!\n",
    "def morre():\n",
    "    morre=True\n",
    "    print(\n",
    "        f'Ela estava te enganando o tempo todo!\\n'\n",
    "        f'Ela é a rainha dos reptilianos!\\n'\n",
    "        f'Você se descuidou e ela te transformou em jacaré!'\n",
    "    )\n",
    "    return morre"
   ]
  },
  {
   "cell_type": "code",
   "execution_count": 13,
   "metadata": {},
   "outputs": [
    {
     "name": "stdout",
     "output_type": "stream",
     "text": [
      "Ela estava te enganando o tempo todo!\n",
      "Ela é a rainha dos reptilianos!\n",
      "Você se descuidou e ela te transformou em jacaré!\n"
     ]
    },
    {
     "data": {
      "text/plain": [
       "True"
      ]
     },
     "execution_count": 13,
     "metadata": {},
     "output_type": "execute_result"
    }
   ],
   "source": [
    "morre()"
   ]
  },
  {
   "cell_type": "code",
   "execution_count": 21,
   "metadata": {},
   "outputs": [
    {
     "name": "stdout",
     "output_type": "stream",
     "text": [
      "Qual personagem deseja? 2\n",
      "Você escolheu ivermectiner\n"
     ]
    }
   ],
   "source": [
    "personagem = personagens()"
   ]
  },
  {
   "cell_type": "code",
   "execution_count": 22,
   "metadata": {},
   "outputs": [
    {
     "name": "stdout",
     "output_type": "stream",
     "text": [
      "Você derrotou ela!\n",
      "Ela era a rainha dos reptilianos, mas não conseguiu te enganar!\n",
      "Você é a resistência! Você é um ivermectiner\n"
     ]
    },
    {
     "data": {
      "text/plain": [
       "True"
      ]
     },
     "execution_count": 22,
     "metadata": {},
     "output_type": "execute_result"
    }
   ],
   "source": [
    "\n",
    "vitoria()"
   ]
  },
  {
   "cell_type": "code",
   "execution_count": 23,
   "metadata": {},
   "outputs": [],
   "source": [
    "def jogar_novamente():\n",
    "    if vitoria() == True:\n",
    "        print('Deseja jogar novamente? ')\n",
    "    elif morre() == True:\n",
    "        print('Quer jogar de novo? ')"
   ]
  },
  {
   "cell_type": "code",
   "execution_count": 24,
   "metadata": {},
   "outputs": [
    {
     "name": "stdout",
     "output_type": "stream",
     "text": [
      "Você derrotou ela!\n",
      "Ela era a rainha dos reptilianos, mas não conseguiu te enganar!\n",
      "Você é a resistência! Você é um ivermectiner\n",
      "Deseja jogar novamente? \n"
     ]
    }
   ],
   "source": [
    "jogar_novamente()"
   ]
  },
  {
   "cell_type": "code",
   "execution_count": 26,
   "metadata": {},
   "outputs": [],
   "source": [
    "def morre():\n",
    "    morre=True\n",
    "    print(\n",
    "        f'Ela estava te enganando o tempo todo!\\n'\n",
    "        f'Ela é a rainha dos reptilianos!\\n'\n",
    "        f'Você se descuidou e ela te transformou em jacaré!'\n",
    "    )\n",
    "    return morre\n"
   ]
  },
  {
   "cell_type": "code",
   "execution_count": 28,
   "metadata": {},
   "outputs": [
    {
     "name": "stdout",
     "output_type": "stream",
     "text": [
      "Ela estava te enganando o tempo todo!\n",
      "Ela é a rainha dos reptilianos!\n",
      "Você se descuidou e ela te transformou em jacaré!\n"
     ]
    },
    {
     "data": {
      "text/plain": [
       "True"
      ]
     },
     "execution_count": 28,
     "metadata": {},
     "output_type": "execute_result"
    }
   ],
   "source": [
    "morre()"
   ]
  },
  {
   "cell_type": "code",
   "execution_count": 29,
   "metadata": {},
   "outputs": [],
   "source": [
    "def comeco():\n",
    "    print(\n",
    "        f'\\nTOC! TOC! TOC!\\n'\n",
    "        f'\\nQuem bate na sua porta?? Seriam os jacarés tentando invadir?\\n'\n",
    "        f'A polícia reptiliana descobriu onde você mora e vieram prendê-lo?\\n'\n",
    "        f'Você olha pelo olho mágico.'\n",
    "        f'É a Rainha Elizabeth, parada em sua porta!! \\nA própria rainha da Inglaterra batendo em sua casa!!'\n",
    "        f'Você abrirá a porta para a Rainha Elizabeth?\\n'\n",
    "    )\n",
    "    comeco = input(\n",
    "        f'[1] Para abrir a porta para ela\\n'\n",
    "        f'[2] Não confio em ninguém! Não vou abrir\\n')\n",
    "    while comeco != '1' and comeco != '2':\n",
    "        print('Número inválido')\n",
    "        comeco = input(\n",
    "        f'[1] Para abrir a porta para ela\\n'\n",
    "        f'[2] Não confio em ninguém! Não vou abrir\\n')\n",
    "    return comeco"
   ]
  },
  {
   "cell_type": "code",
   "execution_count": 30,
   "metadata": {},
   "outputs": [
    {
     "name": "stdout",
     "output_type": "stream",
     "text": [
      "\n",
      "TOC! TOC! TOC!\n",
      "\n",
      "Quem bate na sua porta?? Seriam os jacarés tentando invadir?\n",
      "A polícia reptiliana descobriu onde você mora e vieram prendê-lo?\n",
      "Você olha pelo olho mágico.É a Rainha Elizabeth, parada em sua porta!! \n",
      "A própria rainha da Inglaterra batendo em sua casa!!Você abrirá a porta para a Rainha Elizabeth?\n",
      "\n",
      "[1] Para abrir a porta para ela\n",
      "[2] Não confio em ninguém! Não vou abrir\n",
      "1\n"
     ]
    },
    {
     "data": {
      "text/plain": [
       "'1'"
      ]
     },
     "execution_count": 30,
     "metadata": {},
     "output_type": "execute_result"
    }
   ],
   "source": [
    "comeco()"
   ]
  },
  {
   "cell_type": "code",
   "execution_count": 12,
   "metadata": {},
   "outputs": [],
   "source": [
    "###Função para iniciar o jogo\n",
    "def comeco():\n",
    "    print(\n",
    "        f'\\nTOC! TOC! TOC!\\n'\n",
    "        f'\\nQuem bate na sua porta?? Seriam os jacarés tentando invadir?\\n'\n",
    "        f'A polícia reptiliana descobriu onde você mora e vieram prendê-lo?\\n'\n",
    "        f'Você olha pelo olho mágico.'\n",
    "        f'É a Rainha Elizabeth, parada em sua porta!! \\nA própria rainha da Inglaterra batendo em sua casa!!'\n",
    "        f'Você abrirá a porta para a Rainha Elizabeth?\\n'\n",
    "    )\n",
    "    comeco = input(\n",
    "        f'[1] Para abrir a porta para ela\\n'\n",
    "        f'[2] Não confio em ninguém! Não vou abrir\\n'\n",
    "    )\n",
    "    return comeco\n"
   ]
  },
  {
   "cell_type": "code",
   "execution_count": 15,
   "metadata": {},
   "outputs": [],
   "source": [
    "#O jogo\n",
    "def jogo():\n",
    "    inicio = comeco()\n",
    "    if inicio == '1':\n",
    "        print(\n",
    "            f'Ela entrou em sua casa observando os arredores e disse: \\n'\n",
    "            f'\"Olá, sou a Rainha Elizabeth! Eu costumava ser a rainha dos humanos ingleses, \\nmas fomos dominados por esses reptilianos e perdi meu reinado\"\\n'\n",
    "            f'\"Fiquei sabendo que tem um humano muito inteligente aqui nesta casa! E vim aqui \\npara recrutá-lo para a luta contra os reptilianos! Pela reconstrução do reinado dos humanos!!\"\\n'\n",
    "            f\"Mas antes de continuarmos, você poderia me dar um copo d'água?\\n\")\n",
    "    else:\n",
    "        print(\n",
    "            f'Ela está batendo loucamente na porta, não vai abrir mesmo?')"
   ]
  },
  {
   "cell_type": "code",
   "execution_count": 16,
   "metadata": {},
   "outputs": [
    {
     "name": "stdout",
     "output_type": "stream",
     "text": [
      "\n",
      "TOC! TOC! TOC!\n",
      "\n",
      "Quem bate na sua porta?? Seriam os jacarés tentando invadir?\n",
      "A polícia reptiliana descobriu onde você mora e vieram prendê-lo?\n",
      "Você olha pelo olho mágico.É a Rainha Elizabeth, parada em sua porta!! \n",
      "A própria rainha da Inglaterra batendo em sua casa!!Você abrirá a porta para a Rainha Elizabeth?\n",
      "\n",
      "[1] Para abrir a porta para ela\n",
      "[2] Não confio em ninguém! Não vou abrir\n",
      "1\n",
      "Ela entrou em sua casa observando os arredores e disse: \n",
      "\"Olá, sou a Rainha Elizabeth! Eu costumava ser a rainha dos humanos ingleses, \n",
      "mas fomos dominados por esses reptilianos e perdi meu reinado\"\n",
      "\"Fiquei sabendo que tem um humano muito inteligente aqui nesta casa! E vim aqui \n",
      "para recrutá-lo para a luta contra os reptilianos! Pela reconstrução do reinado dos humanos!!\"\n",
      "Mas antes de continuarmos, você poderia me dar um copo d'água?\n",
      "\n"
     ]
    }
   ],
   "source": [
    "jogo()"
   ]
  },
  {
   "cell_type": "code",
   "execution_count": null,
   "metadata": {},
   "outputs": [],
   "source": []
  }
 ],
 "metadata": {
  "kernelspec": {
   "display_name": "Python 3",
   "language": "python",
   "name": "python3"
  },
  "language_info": {
   "codemirror_mode": {
    "name": "ipython",
    "version": 3
   },
   "file_extension": ".py",
   "mimetype": "text/x-python",
   "name": "python",
   "nbconvert_exporter": "python",
   "pygments_lexer": "ipython3",
   "version": "3.7.6"
  }
 },
 "nbformat": 4,
 "nbformat_minor": 2
}
